{
 "cells": [
  {
   "cell_type": "markdown",
   "metadata": {},
   "source": [
    "# Barbell weight combinations"
   ]
  },
  {
   "cell_type": "markdown",
   "metadata": {},
   "source": [
    "I have a bunch of 1\" barbell plates that I want to use for lifting. I need to see what combinations are possible with these weights, so that I can determine if I need to purchase more, and if so, which to purchase."
   ]
  },
  {
   "cell_type": "markdown",
   "metadata": {},
   "source": [
    "We can solve this problem by representing it as a linear program."
   ]
  },
  {
   "cell_type": "code",
   "execution_count": 1,
   "metadata": {},
   "outputs": [],
   "source": [
    "using JuMP, GLPK\n",
    "using DataFrames\n",
    "using LinearAlgebra\n",
    "using Dates"
   ]
  },
  {
   "cell_type": "code",
   "execution_count": 2,
   "metadata": {},
   "outputs": [],
   "source": [
    "ENV[\"LINES\"] = 1000;    # so that the DataFrames display all rows"
   ]
  },
  {
   "cell_type": "markdown",
   "metadata": {},
   "source": [
    "I catalogued my collection of plates."
   ]
  },
  {
   "cell_type": "code",
   "execution_count": 3,
   "metadata": {},
   "outputs": [
    {
     "data": {
      "text/html": [
       "<div class=\"data-frame\"><p>6 rows × 6 columns</p><table class=\"data-frame\"><thead><tr><th></th><th>weight</th><th>quantity</th><th>material</th><th>thickness</th><th>pair_weight</th><th>pair_quantity</th></tr><tr><th></th><th title=\"Float64\">Float64</th><th title=\"Int64\">Int64</th><th title=\"Symbol\">Symbol</th><th title=\"Float64\">Float64</th><th title=\"Float64\">Float64</th><th title=\"Int64\">Int64</th></tr></thead><tbody><tr><th>1</th><td>10.0</td><td>4</td><td>metal</td><td>1.125</td><td>20.0</td><td>2</td></tr><tr><th>2</th><td>3.0</td><td>4</td><td>metal</td><td>0.8125</td><td>6.0</td><td>2</td></tr><tr><th>3</th><td>5.0</td><td>6</td><td>metal</td><td>0.9375</td><td>10.0</td><td>3</td></tr><tr><th>4</th><td>4.4</td><td>2</td><td>sand</td><td>1.8125</td><td>8.8</td><td>1</td></tr><tr><th>5</th><td>14.3</td><td>4</td><td>sand</td><td>2.25</td><td>28.6</td><td>2</td></tr><tr><th>6</th><td>8.8</td><td>4</td><td>sand</td><td>2.0</td><td>17.6</td><td>2</td></tr></tbody></table></div>"
      ],
      "text/latex": [
       "\\begin{tabular}{r|cccccc}\n",
       "\t& weight & quantity & material & thickness & pair\\_weight & pair\\_quantity\\\\\n",
       "\t\\hline\n",
       "\t& Float64 & Int64 & Symbol & Float64 & Float64 & Int64\\\\\n",
       "\t\\hline\n",
       "\t1 & 10.0 & 4 & metal & 1.125 & 20.0 & 2 \\\\\n",
       "\t2 & 3.0 & 4 & metal & 0.8125 & 6.0 & 2 \\\\\n",
       "\t3 & 5.0 & 6 & metal & 0.9375 & 10.0 & 3 \\\\\n",
       "\t4 & 4.4 & 2 & sand & 1.8125 & 8.8 & 1 \\\\\n",
       "\t5 & 14.3 & 4 & sand & 2.25 & 28.6 & 2 \\\\\n",
       "\t6 & 8.8 & 4 & sand & 2.0 & 17.6 & 2 \\\\\n",
       "\\end{tabular}\n"
      ],
      "text/plain": [
       "\u001b[1m6×6 DataFrame\u001b[0m\n",
       "\u001b[1m Row \u001b[0m│\u001b[1m weight  \u001b[0m\u001b[1m quantity \u001b[0m\u001b[1m material \u001b[0m\u001b[1m thickness \u001b[0m\u001b[1m pair_weight \u001b[0m\u001b[1m pair_quantity \u001b[0m\n",
       "\u001b[1m     \u001b[0m│\u001b[90m Float64 \u001b[0m\u001b[90m Int64    \u001b[0m\u001b[90m Symbol   \u001b[0m\u001b[90m Float64   \u001b[0m\u001b[90m Float64     \u001b[0m\u001b[90m Int64         \u001b[0m\n",
       "─────┼────────────────────────────────────────────────────────────────────\n",
       "   1 │    10.0         4  metal        1.125          20.0              2\n",
       "   2 │     3.0         4  metal        0.8125          6.0              2\n",
       "   3 │     5.0         6  metal        0.9375         10.0              3\n",
       "   4 │     4.4         2  sand         1.8125          8.8              1\n",
       "   5 │    14.3         4  sand         2.25           28.6              2\n",
       "   6 │     8.8         4  sand         2.0            17.6              2"
      ]
     },
     "execution_count": 3,
     "metadata": {},
     "output_type": "execute_result"
    }
   ],
   "source": [
    "plates = DataFrame(weight=Float64[], quantity=Int[], material=Symbol[], thickness=Float64[])\n",
    "push!(plates, (10, 4, :metal, 1+(1/8)))\n",
    "push!(plates, (3, 4, :metal, 13/16))\n",
    "push!(plates, (5, 6, :metal, 15/16))\n",
    "push!(plates, (4.4, 2, :sand, 1+(13/16)))\n",
    "push!(plates, (14.3, 4, :sand, 2+(1/4)))\n",
    "push!(plates, (8.8, 4, :sand, 2))\n",
    "\n",
    "#push!(plates, (45, 4, :metal, 1.3))   # I don't have these yet.\n",
    "\n",
    "plates.pair_weight = plates.weight .* 2\n",
    "plates.pair_quantity = plates.quantity .÷ 2\n",
    "\n",
    "plates"
   ]
  },
  {
   "cell_type": "markdown",
   "metadata": {},
   "source": [
    "The bar weighs 12 lb."
   ]
  },
  {
   "cell_type": "code",
   "execution_count": 4,
   "metadata": {},
   "outputs": [
    {
     "data": {
      "text/plain": [
       "12"
      ]
     },
     "execution_count": 4,
     "metadata": {},
     "output_type": "execute_result"
    }
   ],
   "source": [
    "bar_weight = 12"
   ]
  },
  {
   "cell_type": "code",
   "execution_count": 5,
   "metadata": {},
   "outputs": [],
   "source": [
    "model = Model(GLPK.Optimizer);"
   ]
  },
  {
   "cell_type": "markdown",
   "metadata": {},
   "source": [
    "We need one decision variable for each quantity of plate pairs we load onto the bar. I.e. one variable for quantity of 10lb plate pairs, another variable for quantity of 5lb plate pairs, etc."
   ]
  },
  {
   "cell_type": "code",
   "execution_count": 6,
   "metadata": {},
   "outputs": [
    {
     "data": {
      "text/plain": [
       "6-element Vector{VariableRef}:\n",
       " p[1]\n",
       " p[2]\n",
       " p[3]\n",
       " p[4]\n",
       " p[5]\n",
       " p[6]"
      ]
     },
     "execution_count": 6,
     "metadata": {},
     "output_type": "execute_result"
    }
   ],
   "source": [
    "@variable(model, p[eachindex(plates.pair_weight)], Int)"
   ]
  },
  {
   "cell_type": "markdown",
   "metadata": {},
   "source": [
    "We need to set bounds on each variable, so that the solver doesn't try to load more plates than we own."
   ]
  },
  {
   "cell_type": "code",
   "execution_count": 7,
   "metadata": {},
   "outputs": [
    {
     "data": {
      "text/plain": [
       "6-element Vector{ConstraintRef{Model, MathOptInterface.ConstraintIndex{MathOptInterface.ScalarAffineFunction{Float64}, MathOptInterface.Interval{Float64}}, ScalarShape}}:\n",
       " p[1] ∈ [0.0, 2.0]\n",
       " p[2] ∈ [0.0, 2.0]\n",
       " p[3] ∈ [0.0, 3.0]\n",
       " p[4] ∈ [0.0, 1.0]\n",
       " p[5] ∈ [0.0, 2.0]\n",
       " p[6] ∈ [0.0, 2.0]"
      ]
     },
     "execution_count": 7,
     "metadata": {},
     "output_type": "execute_result"
    }
   ],
   "source": [
    "@constraint(model, 0 .<= p .<= plates.pair_quantity)"
   ]
  },
  {
   "cell_type": "markdown",
   "metadata": {},
   "source": [
    "We can give the solver some leeway in finding a loading, by allowing a margin for its resulting weight. E.g. it might not be able to find a loading that matches our target exactly, but it might be able to find one within ± margin of our target."
   ]
  },
  {
   "cell_type": "code",
   "execution_count": 8,
   "metadata": {},
   "outputs": [
    {
     "data": {
      "text/latex": [
       "load_min : $ 20 p_{1} + 6 p_{2} + 10 p_{3} + 8.8 p_{4} + 28.6 p_{5} + 17.6 p_{6} \\geq -12.0 $"
      ],
      "text/plain": [
       "load_min : 20 p[1] + 6 p[2] + 10 p[3] + 8.8 p[4] + 28.6 p[5] + 17.6 p[6] ≥ -12.0"
      ]
     },
     "execution_count": 8,
     "metadata": {},
     "output_type": "execute_result"
    }
   ],
   "source": [
    "@constraint(model, load_min, bar_weight + dot(plates.pair_weight, p) >= 0) "
   ]
  },
  {
   "cell_type": "code",
   "execution_count": 9,
   "metadata": {
    "scrolled": true
   },
   "outputs": [
    {
     "data": {
      "text/latex": [
       "load_max : $ 20 p_{1} + 6 p_{2} + 10 p_{3} + 8.8 p_{4} + 28.6 p_{5} + 17.6 p_{6} \\leq -12.0 $"
      ],
      "text/plain": [
       "load_max : 20 p[1] + 6 p[2] + 10 p[3] + 8.8 p[4] + 28.6 p[5] + 17.6 p[6] ≤ -12.0"
      ]
     },
     "execution_count": 9,
     "metadata": {},
     "output_type": "execute_result"
    }
   ],
   "source": [
    "@constraint(model, load_max, bar_weight + dot(plates.pair_weight, p) <= 0)"
   ]
  },
  {
   "cell_type": "markdown",
   "metadata": {},
   "source": [
    "Our bar only has 9.75\" of sleeve length on each end, so we need to make sure the solver only finds combinations that don't exceed this length."
   ]
  },
  {
   "cell_type": "code",
   "execution_count": 10,
   "metadata": {},
   "outputs": [
    {
     "data": {
      "text/latex": [
       "$$ 2.25 p_{1} + 1.625 p_{2} + 1.875 p_{3} + 3.625 p_{4} + 4.5 p_{5} + 4 p_{6} \\leq 18.75 $$"
      ],
      "text/plain": [
       "2.25 p[1] + 1.625 p[2] + 1.875 p[3] + 3.625 p[4] + 4.5 p[5] + 4 p[6] ≤ 18.75"
      ]
     },
     "execution_count": 10,
     "metadata": {},
     "output_type": "execute_result"
    }
   ],
   "source": [
    "@constraint(model, dot(2 .* plates.thickness, p) <=  2 * 9+(3/4))"
   ]
  },
  {
   "cell_type": "markdown",
   "metadata": {},
   "source": [
    "Our objective is to find a combination of as few plates as possible in order to match our desired loading."
   ]
  },
  {
   "cell_type": "code",
   "execution_count": 11,
   "metadata": {},
   "outputs": [
    {
     "data": {
      "text/latex": [
       "$$ p_{1} + p_{2} + p_{3} + p_{4} + p_{5} + p_{6} $$"
      ],
      "text/plain": [
       "p[1] + p[2] + p[3] + p[4] + p[5] + p[6]"
      ]
     },
     "execution_count": 11,
     "metadata": {},
     "output_type": "execute_result"
    }
   ],
   "source": [
    "@objective(model, Min, sum(p))"
   ]
  },
  {
   "cell_type": "markdown",
   "metadata": {},
   "source": [
    "Finally, we run the solver for every progression increment between our starting weight and the total amount of weight we own, and we save the results to a DataFrame. If the solver can't find a loading, we record that it's missing."
   ]
  },
  {
   "cell_type": "code",
   "execution_count": 12,
   "metadata": {
    "scrolled": false
   },
   "outputs": [
    {
     "data": {
      "text/html": [
       "<div class=\"data-frame\"><p>28 rows × 3 columns</p><table class=\"data-frame\"><thead><tr><th></th><th>target_weight</th><th>solver_weight</th><th>plate_pair_counts</th></tr><tr><th></th><th title=\"Any\">Any</th><th title=\"Any\">Any</th><th title=\"Any\">Any</th></tr></thead><tbody><tr><th>1</th><td>45.0</td><td>44.0</td><td>[0 0 0 1 0 2]</td></tr><tr><th>2</th><td>50.0</td><td>50.0</td><td>[2 0 1 0 0 0]</td></tr><tr><th>3</th><td>55.0</td><td>55.0</td><td>[0 0 0 1 1 1]</td></tr><tr><th>4</th><td>60.0</td><td>60.0</td><td>[2 0 2 0 0 0]</td></tr><tr><th>5</th><td>65.0</td><td>66.0</td><td>[0 0 0 1 2 0]</td></tr><tr><th>6</th><td>70.0</td><td>69.8</td><td>[0 1 0 0 1 2]</td></tr><tr><th>7</th><td>75.0</td><td>74.8</td><td>[0 0 0 0 2 1]</td></tr><tr><th>8</th><td>80.0</td><td>80.8</td><td>[0 1 0 0 2 1]</td></tr><tr><th>9</th><td>85.0</td><td>86.0</td><td>[1 0 0 1 2 0]</td></tr><tr><th>10</th><td>90.0</td><td>89.8</td><td>[1 1 0 0 1 2]</td></tr><tr><th>11</th><td>95.0</td><td>94.8</td><td>[1 0 0 0 2 1]</td></tr><tr><th>12</th><td>100.0</td><td>100.8</td><td>[1 1 0 0 2 1]</td></tr><tr><th>13</th><td>105.0</td><td>106.0</td><td>[2 0 0 1 2 0]</td></tr><tr><th>14</th><td>110.0</td><td>109.8</td><td>[2 1 0 0 1 2]</td></tr><tr><th>15</th><td>115.0</td><td>114.8</td><td>[2 0 0 0 2 1]</td></tr><tr><th>16</th><td>120.0</td><td>119.2</td><td>[2 2 1 0 2 0]</td></tr><tr><th>17</th><td>125.0</td><td><em>missing</em></td><td><em>missing</em></td></tr><tr><th>18</th><td>130.0</td><td><em>missing</em></td><td><em>missing</em></td></tr><tr><th>19</th><td>135.0</td><td><em>missing</em></td><td><em>missing</em></td></tr><tr><th>20</th><td>140.0</td><td><em>missing</em></td><td><em>missing</em></td></tr><tr><th>21</th><td>145.0</td><td><em>missing</em></td><td><em>missing</em></td></tr><tr><th>22</th><td>150.0</td><td><em>missing</em></td><td><em>missing</em></td></tr><tr><th>23</th><td>155.0</td><td><em>missing</em></td><td><em>missing</em></td></tr><tr><th>24</th><td>160.0</td><td><em>missing</em></td><td><em>missing</em></td></tr><tr><th>25</th><td>165.0</td><td><em>missing</em></td><td><em>missing</em></td></tr><tr><th>26</th><td>170.0</td><td><em>missing</em></td><td><em>missing</em></td></tr><tr><th>27</th><td>175.0</td><td><em>missing</em></td><td><em>missing</em></td></tr><tr><th>28</th><td>180.0</td><td><em>missing</em></td><td><em>missing</em></td></tr></tbody></table></div>"
      ],
      "text/latex": [
       "\\begin{tabular}{r|ccc}\n",
       "\t& target\\_weight & solver\\_weight & plate\\_pair\\_counts\\\\\n",
       "\t\\hline\n",
       "\t& Any & Any & Any\\\\\n",
       "\t\\hline\n",
       "\t1 & 45.0 & 44.0 & [0 0 … 0 2] \\\\\n",
       "\t2 & 50.0 & 50.0 & [2 0 … 0 0] \\\\\n",
       "\t3 & 55.0 & 55.0 & [0 0 … 1 1] \\\\\n",
       "\t4 & 60.0 & 60.0 & [2 0 … 0 0] \\\\\n",
       "\t5 & 65.0 & 66.0 & [0 0 … 2 0] \\\\\n",
       "\t6 & 70.0 & 69.8 & [0 1 … 1 2] \\\\\n",
       "\t7 & 75.0 & 74.8 & [0 0 … 2 1] \\\\\n",
       "\t8 & 80.0 & 80.8 & [0 1 … 2 1] \\\\\n",
       "\t9 & 85.0 & 86.0 & [1 0 … 2 0] \\\\\n",
       "\t10 & 90.0 & 89.8 & [1 1 … 1 2] \\\\\n",
       "\t11 & 95.0 & 94.8 & [1 0 … 2 1] \\\\\n",
       "\t12 & 100.0 & 100.8 & [1 1 … 2 1] \\\\\n",
       "\t13 & 105.0 & 106.0 & [2 0 … 2 0] \\\\\n",
       "\t14 & 110.0 & 109.8 & [2 1 … 1 2] \\\\\n",
       "\t15 & 115.0 & 114.8 & [2 0 … 2 1] \\\\\n",
       "\t16 & 120.0 & 119.2 & [2 2 … 2 0] \\\\\n",
       "\t17 & 125.0 & \\emph{missing} & \\emph{missing} \\\\\n",
       "\t18 & 130.0 & \\emph{missing} & \\emph{missing} \\\\\n",
       "\t19 & 135.0 & \\emph{missing} & \\emph{missing} \\\\\n",
       "\t20 & 140.0 & \\emph{missing} & \\emph{missing} \\\\\n",
       "\t21 & 145.0 & \\emph{missing} & \\emph{missing} \\\\\n",
       "\t22 & 150.0 & \\emph{missing} & \\emph{missing} \\\\\n",
       "\t23 & 155.0 & \\emph{missing} & \\emph{missing} \\\\\n",
       "\t24 & 160.0 & \\emph{missing} & \\emph{missing} \\\\\n",
       "\t25 & 165.0 & \\emph{missing} & \\emph{missing} \\\\\n",
       "\t26 & 170.0 & \\emph{missing} & \\emph{missing} \\\\\n",
       "\t27 & 175.0 & \\emph{missing} & \\emph{missing} \\\\\n",
       "\t28 & 180.0 & \\emph{missing} & \\emph{missing} \\\\\n",
       "\\end{tabular}\n"
      ],
      "text/plain": [
       "\u001b[1m28×3 DataFrame\u001b[0m\n",
       "\u001b[1m Row \u001b[0m│\u001b[1m target_weight \u001b[0m\u001b[1m solver_weight \u001b[0m\u001b[1m plate_pair_counts \u001b[0m\n",
       "\u001b[1m     \u001b[0m│\u001b[90m Any           \u001b[0m\u001b[90m Any           \u001b[0m\u001b[90m Any               \u001b[0m\n",
       "─────┼─────────────────────────────────────────────────\n",
       "   1 │ 45.0           44.0           [0 0 … 0 2]\n",
       "   2 │ 50.0           50.0           [2 0 … 0 0]\n",
       "   3 │ 55.0           55.0           [0 0 … 1 1]\n",
       "   4 │ 60.0           60.0           [2 0 … 0 0]\n",
       "   5 │ 65.0           66.0           [0 0 … 2 0]\n",
       "   6 │ 70.0           69.8           [0 1 … 1 2]\n",
       "   7 │ 75.0           74.8           [0 0 … 2 1]\n",
       "   8 │ 80.0           80.8           [0 1 … 2 1]\n",
       "   9 │ 85.0           86.0           [1 0 … 2 0]\n",
       "  10 │ 90.0           89.8           [1 1 … 1 2]\n",
       "  11 │ 95.0           94.8           [1 0 … 2 1]\n",
       "  12 │ 100.0          100.8          [1 1 … 2 1]\n",
       "  13 │ 105.0          106.0          [2 0 … 2 0]\n",
       "  14 │ 110.0          109.8          [2 1 … 1 2]\n",
       "  15 │ 115.0          114.8          [2 0 … 2 1]\n",
       "  16 │ 120.0          119.2          [2 2 … 2 0]\n",
       "  17 │ 125.0         \u001b[90m missing       \u001b[0m\u001b[90m missing           \u001b[0m\n",
       "  18 │ 130.0         \u001b[90m missing       \u001b[0m\u001b[90m missing           \u001b[0m\n",
       "  19 │ 135.0         \u001b[90m missing       \u001b[0m\u001b[90m missing           \u001b[0m\n",
       "  20 │ 140.0         \u001b[90m missing       \u001b[0m\u001b[90m missing           \u001b[0m\n",
       "  21 │ 145.0         \u001b[90m missing       \u001b[0m\u001b[90m missing           \u001b[0m\n",
       "  22 │ 150.0         \u001b[90m missing       \u001b[0m\u001b[90m missing           \u001b[0m\n",
       "  23 │ 155.0         \u001b[90m missing       \u001b[0m\u001b[90m missing           \u001b[0m\n",
       "  24 │ 160.0         \u001b[90m missing       \u001b[0m\u001b[90m missing           \u001b[0m\n",
       "  25 │ 165.0         \u001b[90m missing       \u001b[0m\u001b[90m missing           \u001b[0m\n",
       "  26 │ 170.0         \u001b[90m missing       \u001b[0m\u001b[90m missing           \u001b[0m\n",
       "  27 │ 175.0         \u001b[90m missing       \u001b[0m\u001b[90m missing           \u001b[0m\n",
       "  28 │ 180.0         \u001b[90m missing       \u001b[0m\u001b[90m missing           \u001b[0m"
      ]
     },
     "execution_count": 12,
     "metadata": {},
     "output_type": "execute_result"
    }
   ],
   "source": [
    "starting_weight = 45\n",
    "progression = 5\n",
    "\n",
    "loadings = starting_weight:progression:dot(plates.pair_weight, plates.pair_quantity)\n",
    "\n",
    "margin = 1\n",
    "\n",
    "loading_results = DataFrame(\n",
    "    target_weight = [],\n",
    "    solver_weight = [],\n",
    "    plate_pair_counts = []\n",
    ")\n",
    "\n",
    "for loading in loadings\n",
    "    set_normalized_rhs(load_min, loading-margin)\n",
    "    set_normalized_rhs(load_max, loading+margin)\n",
    "    optimize!(model);\n",
    "    push!(loading_results,\n",
    "            (\n",
    "                loading,\n",
    "                termination_status(model)==MOI.OPTIMAL ? dot(plates.pair_weight, value.(p)) : missing,\n",
    "                termination_status(model)==MOI.OPTIMAL ? transpose((Int64∘value).(p)) : missing\n",
    "            )\n",
    "        )\n",
    "end\n",
    "\n",
    "loading_results"
   ]
  },
  {
   "cell_type": "markdown",
   "metadata": {},
   "source": [
    "How many weeks of workouts can we get with the loadings the solver has determined?"
   ]
  },
  {
   "cell_type": "code",
   "execution_count": 13,
   "metadata": {},
   "outputs": [
    {
     "data": {
      "text/plain": [
       "10 weeks, 1 day"
      ]
     },
     "execution_count": 13,
     "metadata": {},
     "output_type": "execute_result"
    }
   ],
   "source": [
    "loading_results |> dropmissing |> size |> (n -> divrem(n[1],3)) |> (wd -> 2*Week(wd[1]) + Day(wd[2]))"
   ]
  }
 ],
 "metadata": {
  "kernelspec": {
   "display_name": "Julia 1.6.0",
   "language": "julia",
   "name": "julia-1.6"
  },
  "language_info": {
   "file_extension": ".jl",
   "mimetype": "application/julia",
   "name": "julia",
   "version": "1.6.0"
  }
 },
 "nbformat": 4,
 "nbformat_minor": 4
}
